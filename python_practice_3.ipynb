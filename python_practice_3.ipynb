{
  "nbformat": 4,
  "nbformat_minor": 0,
  "metadata": {
    "colab": {
      "provenance": [],
      "include_colab_link": true
    },
    "kernelspec": {
      "name": "python3",
      "display_name": "Python 3"
    },
    "language_info": {
      "name": "python"
    }
  },
  "cells": [
    {
      "cell_type": "markdown",
      "metadata": {
        "id": "view-in-github",
        "colab_type": "text"
      },
      "source": [
        "<a href=\"https://colab.research.google.com/github/theronib/Python/blob/main/python_practice_3.ipynb\" target=\"_parent\"><img src=\"https://colab.research.google.com/assets/colab-badge.svg\" alt=\"Open In Colab\"/></a>"
      ]
    },
    {
      "cell_type": "markdown",
      "source": [
        "# I. Оператори порівняння та логічні оператори. Умови."
      ],
      "metadata": {
        "id": "qDEi2Pi-4yUC"
      }
    },
    {
      "cell_type": "markdown",
      "source": [
        "1. Створіть цілочисленну змінну зі своїм щасливим або улюбленим числом. Напишіть код, який би автоматизовував наступну задачу.\n",
        "\n",
        "Якщо число парне, помножте його на 2 та виведіть результат на екран.\n",
        "\n",
        "Але якщо число непарне, помножте його на 3 та додайте 1 і виведіть на екран."
      ],
      "metadata": {
        "id": "3v8D4Dkm43Ua"
      }
    },
    {
      "cell_type": "code",
      "execution_count": 290,
      "metadata": {
        "id": "dlVjc-Nu4bmb",
        "colab": {
          "base_uri": "https://localhost:8080/"
        },
        "outputId": "db28a38f-a4bf-4605-9a20-04c8d93c62f2"
      },
      "outputs": [
        {
          "output_type": "stream",
          "name": "stdout",
          "text": [
            "10\n"
          ]
        }
      ],
      "source": [
        "lucky_num = 3\n",
        "if (lucky_num % 2 == 0):\n",
        "  result = lucky_num * 2\n",
        "else:\n",
        "  result = (lucky_num * 3) + 1\n",
        "\n",
        "print(result)"
      ]
    },
    {
      "cell_type": "markdown",
      "source": [
        "2. Створіть змінну, що посилається на список. Якщо список пустий, додайте будь-який елемент у кінець списку. Якщо ж ні, то нічого не робіть."
      ],
      "metadata": {
        "id": "H669P0QK5BI_"
      }
    },
    {
      "cell_type": "code",
      "source": [
        "my_new_list = list()\n",
        "if len(my_new_list) == 0:\n",
        "   my_new_list.append('element')\n",
        "\n",
        "print(my_new_list)"
      ],
      "metadata": {
        "id": "ecWlfra45f6E",
        "colab": {
          "base_uri": "https://localhost:8080/"
        },
        "outputId": "cee7b97f-cbf3-4dca-9722-89923b4a7379"
      },
      "execution_count": 293,
      "outputs": [
        {
          "output_type": "stream",
          "name": "stdout",
          "text": [
            "['element']\n"
          ]
        }
      ]
    },
    {
      "cell_type": "markdown",
      "source": [
        "3. Створіть рядок зі своїм імʼям латинкою. Напишіть код, який би автоматизовував наступну задачу.\n",
        "\n",
        "Якщо в імені є літера \"а\"\n",
        " або \"i\", Виведіть на екран повідомлення \"A or I is in the name\".\n",
        "\n",
        "\n",
        "\n",
        "Якщо в імені є літери \"o\" та \"n\", Виведіть на екран повідомлення \"O and N is in the name\".\n",
        "\n",
        "Також якщо в імені немає літери \"о\", але є \"n\", Виведіть на екран повідомлення \"Only N is in the name\".\n",
        "\n",
        "В решті випадків виведіть на екран повідомлення \"There is no N in the name, but there might be O\".\n",
        "\n",
        "Зверніть увагу, що, наприклад, для імені \"Antonina\" буде виведено два повідомлення."
      ],
      "metadata": {
        "id": "h9Y3cMUd5h85"
      }
    },
    {
      "cell_type": "code",
      "source": [
        "name = 'Yaroslav'\n",
        "\n",
        "if 'a' in name or 'i' in name:\n",
        "    print('A or I is in the name')\n",
        "\n",
        "if 'o' in name and 'n' in name:\n",
        "    print('O and N is in the name')\n",
        "\n",
        "if 'n' in name and 'o' not in name:\n",
        "    print('Only N is in the name')\n",
        "elif 'n' not in name:\n",
        "    print('There is no N in the name, but there might be O')\n",
        "\n",
        "\n"
      ],
      "metadata": {
        "id": "bUH4LUx35u52",
        "colab": {
          "base_uri": "https://localhost:8080/"
        },
        "outputId": "5f472909-8084-4860-b4f7-ef8c3c91d4c5"
      },
      "execution_count": 295,
      "outputs": [
        {
          "output_type": "stream",
          "name": "stdout",
          "text": [
            "A or I is in the name\n",
            "There is no N in the name, but there might be O\n"
          ]
        }
      ]
    },
    {
      "cell_type": "markdown",
      "source": [
        "# II. Comprehensions."
      ],
      "metadata": {
        "id": "wPCXJv4354cU"
      }
    },
    {
      "cell_type": "markdown",
      "source": [
        "4. Створіть список, використовуючи if (не if-else), range та comprehension."
      ],
      "metadata": {
        "id": "jULLW5jN55Pw"
      }
    },
    {
      "cell_type": "code",
      "source": [
        "my_list = [num for num in range(10) if num % 2 == 0]\n",
        "\n",
        "print(my_list)"
      ],
      "metadata": {
        "id": "mlZalnVC6W3F",
        "colab": {
          "base_uri": "https://localhost:8080/"
        },
        "outputId": "b8b614b9-342c-4160-d1b2-f42383d3eae3"
      },
      "execution_count": null,
      "outputs": [
        {
          "output_type": "stream",
          "name": "stdout",
          "text": [
            "[0, 2, 4, 6, 8]\n"
          ]
        }
      ]
    },
    {
      "cell_type": "markdown",
      "source": [
        "5. Створіть словник, використовуючи dict comprehension, що містить if else. Коли слід використовувати comprehensions, а коли їх слід уникати?"
      ],
      "metadata": {
        "id": "LqhEQ4JW6XcC"
      }
    },
    {
      "cell_type": "code",
      "source": [
        "dictionary = {x: 'even' if x %2 == 0 else 'odd' for x in range(10)}\n",
        "print(dictionary)"
      ],
      "metadata": {
        "id": "1yVaFbOs6hta",
        "colab": {
          "base_uri": "https://localhost:8080/"
        },
        "outputId": "73bcd545-9ff0-4e69-9983-40553ae7455f"
      },
      "execution_count": 297,
      "outputs": [
        {
          "output_type": "stream",
          "name": "stdout",
          "text": [
            "{0: 'even', 1: 'odd', 2: 'even', 3: 'odd', 4: 'even', 5: 'odd', 6: 'even', 7: 'odd', 8: 'even', 9: 'odd'}\n"
          ]
        }
      ]
    },
    {
      "cell_type": "markdown",
      "source": [
        "*місце для відповіді: Слід використовувати для меншого по кількості коду. Або ми працюємо зі структурою даних, яка легко генерується. Або коли потрібно створити список, множину або словник на основі ітерабельного об'єкта за допомогою простої трансформації. Слід оминати, тому що ускладнює читабельність коду, код може стати менш розбірливим. Певні операції можуть бути краще розкриті за допомогою циклу"
      ],
      "metadata": {
        "id": "wbkzNhKq6hzz"
      }
    },
    {
      "cell_type": "markdown",
      "source": [
        "6. Створіть список з рядками та запишіть його у змінну. Створіть ще один список на основі попереднього, де кожен рядок буде містити тільки три перших заглавних символи. Наприклад: ['hello', 'i', 'dont', 'care'] -> ['HEL', 'I', 'DON', 'CAR']. Використання comprehensions обовʼязкове."
      ],
      "metadata": {
        "id": "ZlqB8G3G6lHP"
      }
    },
    {
      "cell_type": "code",
      "source": [
        "my_list = list(('hello', 'i', 'dont', 'care'))\n",
        "my_new_string_list = [word[:3].upper() for word in my_list]\n",
        "\n",
        "print(my_new_string_list)"
      ],
      "metadata": {
        "id": "nw6rz0bR60VC",
        "colab": {
          "base_uri": "https://localhost:8080/"
        },
        "outputId": "bee33a20-07d0-4c64-a1f8-bfc75f905c1d"
      },
      "execution_count": null,
      "outputs": [
        {
          "output_type": "stream",
          "name": "stdout",
          "text": [
            "['HEL', 'I', 'DON', 'CAR']\n"
          ]
        }
      ]
    },
    {
      "cell_type": "markdown",
      "source": [
        "# III. Цикли."
      ],
      "metadata": {
        "id": "Tj573IAH64Fz"
      }
    },
    {
      "cell_type": "markdown",
      "source": [
        "7. Продемонструйте роботу циклу while. Не можна використовувати True для запуску циклу, щоб уникнути безкінечного циклу!"
      ],
      "metadata": {
        "id": "tN_33xdE65H5"
      }
    },
    {
      "cell_type": "code",
      "source": [
        "attempts = 3;\n",
        "\n",
        "while (attempts > 0):\n",
        "   print([x+1 for x in range(attempts)])\n",
        "   attempts -= 1"
      ],
      "metadata": {
        "id": "Kd9FO6yG63P5",
        "colab": {
          "base_uri": "https://localhost:8080/"
        },
        "outputId": "84077e07-95d3-42b2-f06f-4cfe38bf7abe"
      },
      "execution_count": null,
      "outputs": [
        {
          "output_type": "stream",
          "name": "stdout",
          "text": [
            "[1, 2, 3]\n",
            "[1, 2]\n",
            "[1]\n"
          ]
        }
      ]
    },
    {
      "cell_type": "markdown",
      "source": [
        "8. Напишіть програму, яка виведе на екран непарні числа в діапазоні від 0 до 20 включно."
      ],
      "metadata": {
        "id": "x2CmfZO-7pW0"
      }
    },
    {
      "cell_type": "code",
      "source": [
        "even_nums = []\n",
        "for i in range(21):\n",
        "  if i % 2 != 0:\n",
        "    even_nums.append(i)\n",
        "\n",
        "print(even_nums)"
      ],
      "metadata": {
        "id": "aCSRYA6s7tkF",
        "colab": {
          "base_uri": "https://localhost:8080/"
        },
        "outputId": "778ad83b-b3cc-4447-c801-dd1a8309505e"
      },
      "execution_count": null,
      "outputs": [
        {
          "output_type": "stream",
          "name": "stdout",
          "text": [
            "[1, 3, 5, 7, 9, 11, 13, 15, 17, 19]\n"
          ]
        }
      ]
    },
    {
      "cell_type": "markdown",
      "source": [
        "9. Створіть список з елементами булевого типу або None. Використовуючи цикли, отримайте в результаті список з кортежами, де перший елемент кортежу - індекс(ціле число), а другий елемент - відповідне значення з першого списку.\n",
        "\n",
        "Наприклад, [True, True, None, False] -> [(0, True), (1, True), (2, None), (3, False)]"
      ],
      "metadata": {
        "id": "MDWNocZD7t_B"
      }
    },
    {
      "cell_type": "code",
      "source": [
        "my_bool_list = list((True, True, None, False))\n",
        "result_list = []\n",
        "size_of_list = len(my_bool_list)\n",
        "\n",
        "for i in range (size_of_list):\n",
        "   bool_type = my_bool_list[i]\n",
        "   result_list.append((i, bool_type))\n",
        "\n",
        "print(my_bool_list, '->', result_list)\n"
      ],
      "metadata": {
        "id": "0EUyjMdp7yfh",
        "colab": {
          "base_uri": "https://localhost:8080/"
        },
        "outputId": "c3f159dd-8d65-479c-b650-77dddfa48e2b"
      },
      "execution_count": 299,
      "outputs": [
        {
          "output_type": "stream",
          "name": "stdout",
          "text": [
            "[True, True, None, False] -> [(0, True), (1, True), (2, None), (3, False)]\n"
          ]
        }
      ]
    },
    {
      "cell_type": "markdown",
      "source": [
        "10. Створіть словник, де ключі - назви книжок, а значення - їхня кількість у наявності в Вашій міні-бібліотеці. Бібліотека має містити щонайменше 6 книжок (6 пар значень у словнику) і щонайбільше 10 (пар значень). Використовуючи цикли, оновіть словник (не створюйте новий) так, щоби кількість книг у наявності збільшилося на 5 кожної книги. Наприклад,\n",
        "{'It': 3, 'Fault stars': 10, 'Bible': 17, 'Psychological romance': 4, 'Harry Potter': 13} -> {'It': 8, 'Fault stars': 15, 'Bible': 22, 'Psychological romance': 9, 'Harry Potter': 18}"
      ],
      "metadata": {
        "id": "-6XUqlcG7zKs"
      }
    },
    {
      "cell_type": "code",
      "source": [
        "books = {\n",
        "    'It': 3,\n",
        "    'Fault stars': 10,\n",
        "    'Bible' : 17,\n",
        "    'Psychological romance' : 4,\n",
        "    'Harry Potter' : 13\n",
        "}\n",
        "print(books, end = '-> ')\n",
        "for book in books:\n",
        "   books[book] += 5\n",
        "\n",
        "print(books)\n",
        "\n",
        "\n"
      ],
      "metadata": {
        "id": "Ceoj9wwb791q",
        "colab": {
          "base_uri": "https://localhost:8080/"
        },
        "outputId": "50e071b7-c53a-4ef1-eed6-baa44ee2e9ad"
      },
      "execution_count": 300,
      "outputs": [
        {
          "output_type": "stream",
          "name": "stdout",
          "text": [
            "{'It': 3, 'Fault stars': 10, 'Bible': 17, 'Psychological romance': 4, 'Harry Potter': 13}-> {'It': 8, 'Fault stars': 15, 'Bible': 22, 'Psychological romance': 9, 'Harry Potter': 18}\n"
          ]
        }
      ]
    },
    {
      "cell_type": "markdown",
      "source": [
        "11. Визначте цілочислену змінну n, що належить проміжку від 4 до 10 включно. Використовуючи цикли, виведіть в консоль наступний патерн.\n",
        "\n",
        "#\n",
        "##\n",
        "###\n",
        "####\n",
        "\n",
        "... #*n\n"
      ],
      "metadata": {
        "id": "QLzyJM288AC7"
      }
    },
    {
      "cell_type": "code",
      "source": [
        "rows = 5\n",
        "sign = '#'\n",
        "\n",
        "for i in range (rows):\n",
        "    for j in range (i):\n",
        "      print(sign, end = '')\n",
        "    print('\\n')"
      ],
      "metadata": {
        "id": "KOpng87s8Duz",
        "colab": {
          "base_uri": "https://localhost:8080/"
        },
        "outputId": "22009b06-8253-4835-f3dd-0342a0c99fd6"
      },
      "execution_count": 257,
      "outputs": [
        {
          "output_type": "stream",
          "name": "stdout",
          "text": [
            "\n",
            "\n",
            "#\n",
            "\n",
            "##\n",
            "\n",
            "###\n",
            "\n",
            "####\n",
            "\n"
          ]
        }
      ]
    },
    {
      "cell_type": "markdown",
      "source": [
        "12. Гра \"Нумо вгадай\".\n",
        "Розробіть просту гру, де користувач має вгадати випадкове число від 1 до 100. Для генерації випадкового числа використовуйте функцію random.randint(a, b) (тут a та b включно). Для отримання числа з консолі використовуйте функцію input(), результат якої обовʼязково явно приведіть до типу int.\n",
        "\n",
        "Підказка: використовуйте цикл while та умови if-else, щоб повідомити користувачу піказки (напр. \"Більше\", \"Менше\") поки користувач не вгадає. По завершенню виведіть кількість спроб, які знадобилися для вгадування."
      ],
      "metadata": {
        "id": "_bd-bqAT8EHn"
      }
    },
    {
      "cell_type": "code",
      "source": [
        "from random import randint\n",
        "\n",
        "print('Guess the number')\n",
        "comp_num = int(randint(1,100))\n",
        "attempts = 0\n",
        "my_num = None\n",
        "\n",
        "while comp_num != my_num:\n",
        " print('Enter the number: ')\n",
        " my_num = int(input())\n",
        " attempts += 1\n",
        " if(comp_num > my_num):\n",
        "  print('More')\n",
        " elif(comp_num < my_num):\n",
        "  print('Less')\n",
        "\n",
        " if(comp_num == my_num):\n",
        "  print('You won! It took you ', attempts, ' attempts')\n",
        "\n",
        "\n"
      ],
      "metadata": {
        "id": "IK9nnxFK8Hkl",
        "colab": {
          "base_uri": "https://localhost:8080/"
        },
        "outputId": "e1397370-6797-4060-8e6b-e36dd66502e2"
      },
      "execution_count": 301,
      "outputs": [
        {
          "output_type": "stream",
          "name": "stdout",
          "text": [
            "Guess the number\n",
            "Enter the number: \n",
            "30\n",
            "More\n",
            "Enter the number: \n",
            "40\n",
            "Less\n",
            "Enter the number: \n",
            "35\n",
            "Less\n",
            "Enter the number: \n",
            "33\n",
            "Less\n",
            "Enter the number: \n",
            "32\n",
            "You won! It took you  5  attempts\n"
          ]
        }
      ]
    },
    {
      "cell_type": "markdown",
      "source": [
        "# Вітаю! Ви велика(ий) молодець, що впоралась(вся). Похваліть себе та побалуйте чимось приємним. Я Вами пишаюся."
      ],
      "metadata": {
        "id": "PXoXWb7Z8IGi"
      }
    }
  ]
}