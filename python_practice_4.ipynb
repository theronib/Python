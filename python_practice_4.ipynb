{
  "nbformat": 4,
  "nbformat_minor": 0,
  "metadata": {
    "colab": {
      "provenance": [],
      "include_colab_link": true
    },
    "kernelspec": {
      "name": "python3",
      "display_name": "Python 3"
    },
    "language_info": {
      "name": "python"
    }
  },
  "cells": [
    {
      "cell_type": "markdown",
      "metadata": {
        "id": "view-in-github",
        "colab_type": "text"
      },
      "source": [
        "<a href=\"https://colab.research.google.com/github/theronib/Python/blob/main/python_practice_4.ipynb\" target=\"_parent\"><img src=\"https://colab.research.google.com/assets/colab-badge.svg\" alt=\"Open In Colab\"/></a>"
      ]
    },
    {
      "cell_type": "markdown",
      "source": [
        "# I. Functions. Arguments."
      ],
      "metadata": {
        "id": "kXpppdVm6wFy"
      }
    },
    {
      "cell_type": "markdown",
      "source": [
        "1. (5б) Назвіть основні 4 смислові  частини, з яких складається функція.\n",
        "\n",
        "\n"
      ],
      "metadata": {
        "id": "u_krJdlbAkVz"
      }
    },
    {
      "cell_type": "markdown",
      "source": [
        "Це заголовок функції (def name......), тіло функцію (тобто сам блок коду всередині функції), параметри, які передаються у функцію, і повернення значення (через return)\n"
      ],
      "metadata": {
        "id": "KKTrTXmHAptb"
      }
    },
    {
      "cell_type": "markdown",
      "source": [
        "2. (3б) Визначте функцію, що приймає 2 аргументи та повертає результат ділення 1го аргумента на інший."
      ],
      "metadata": {
        "id": "ORM4PqJQAtDM"
      }
    },
    {
      "cell_type": "code",
      "execution_count": 21,
      "metadata": {
        "id": "EuDx-z8M6sLo",
        "colab": {
          "base_uri": "https://localhost:8080/"
        },
        "outputId": "6cafa900-196f-4f94-a7bb-22dbbe0312f3"
      },
      "outputs": [
        {
          "output_type": "execute_result",
          "data": {
            "text/plain": [
              "2.0"
            ]
          },
          "metadata": {},
          "execution_count": 21
        }
      ],
      "source": [
        "def function1 (n1, n2):\n",
        "   result = n1 / n2\n",
        "   return result\n",
        "\n",
        "function1(4, 2)\n"
      ]
    },
    {
      "cell_type": "markdown",
      "source": [
        "3. (2б) Викличте вище визначену функцію, де другий аргумент дорівнює 0."
      ],
      "metadata": {
        "id": "5joQGQ-SAyMe"
      }
    },
    {
      "cell_type": "code",
      "source": [
        "#function1(4,0)\n",
        "# Буде вилітати помилка"
      ],
      "metadata": {
        "id": "V5cBV1LOA3d-"
      },
      "execution_count": 23,
      "outputs": []
    },
    {
      "cell_type": "markdown",
      "source": [
        "4. (4б) Перевизначте функцію так, щоби у випадку ділення на 0 функція повертала None, а в решті випадків - результат розрахунків."
      ],
      "metadata": {
        "id": "QyimWgW8A43-"
      }
    },
    {
      "cell_type": "code",
      "source": [
        "def function1 (n1, n2):\n",
        "  if (n2 == 0 or n1 == 0):\n",
        "    return None\n",
        "  else:\n",
        "   result = n1 / n2\n",
        "   return result\n",
        "\n",
        "print(function1(4, 2))\n",
        "print(function1(5, 0))\n",
        "print(function1(0, 10))\n",
        "print(function1(14, 2))"
      ],
      "metadata": {
        "id": "7VIODtSjA8Ek",
        "colab": {
          "base_uri": "https://localhost:8080/"
        },
        "outputId": "c407e911-25b7-46f1-e725-41111efcfa51"
      },
      "execution_count": 216,
      "outputs": [
        {
          "output_type": "stream",
          "name": "stdout",
          "text": [
            "2.0\n",
            "None\n",
            "None\n",
            "7.0\n"
          ]
        }
      ]
    },
    {
      "cell_type": "markdown",
      "source": [
        "5. (5б) Визначте функцію, що віднімає одне число від іншого (підказка: це буде 2 аргументи функції). При чому, якщо не визначити, скільки саме має бути віднято від числа, за замовчуванням має відніматися 1. Викличте функцію, передаючи тільки один аргумент."
      ],
      "metadata": {
        "id": "Y8mN0GfkA81l"
      }
    },
    {
      "cell_type": "code",
      "source": [
        "def function2(n1, n2 = 1):\n",
        "  result = n1 - n2\n",
        "  return result\n",
        "\n",
        "print(\"7 - 5 = \", function2(7,5))\n",
        "print(\"8 - n2 = \", function2(8))"
      ],
      "metadata": {
        "id": "vg1kxkdgBA50",
        "colab": {
          "base_uri": "https://localhost:8080/"
        },
        "outputId": "5cc2489a-f345-4f39-8411-30e0a4e34a8a"
      },
      "execution_count": 217,
      "outputs": [
        {
          "output_type": "stream",
          "name": "stdout",
          "text": [
            "7 - 5 =  2\n",
            "8 - n2 =  7\n"
          ]
        }
      ]
    },
    {
      "cell_type": "markdown",
      "source": [
        "6. (7б) Визначте функцію, яка приймає iterable (ітерабельний обʼєкт, напр. список), що складається з 7ми рядкових значень - назв погодних умов (напр. \"sunny\") за кожен день у тижні. Повертає функція словник, де ключами є рядки з погодними умовами, а значеннями - кількість разів, скільки дана погода була протягом тижня (напр. {'sunny': 1, ...}). Викличте цю функцію та виведіть результат її роботи на екран."
      ],
      "metadata": {
        "id": "D3mwQGNOBBs4"
      }
    },
    {
      "cell_type": "code",
      "source": [
        "weather_conditions = [\"sunny\", \"cold\", \"warm\", \"hot\", \"wet\", \"foggy\", \"sunny\"]\n",
        "\n",
        "def weekly_weather(list):\n",
        "  weather_count = {}\n",
        "  for conditions in list:\n",
        "    if conditions in weather_count:\n",
        "     weather_count[conditions] += 1\n",
        "    else:\n",
        "     weather_count[conditions] = 1\n",
        "  return weather_count\n",
        "\n",
        "\n",
        "res = weekly_weather(weather_conditions)\n",
        "print(res)"
      ],
      "metadata": {
        "id": "OsWm-hKcBFyn",
        "colab": {
          "base_uri": "https://localhost:8080/"
        },
        "outputId": "cf2c8de4-96dc-4bfa-c15b-a28cb50e8787"
      },
      "execution_count": 51,
      "outputs": [
        {
          "output_type": "stream",
          "name": "stdout",
          "text": [
            "{'sunny': 2, 'cold': 1, 'warm': 1, 'hot': 1, 'wet': 1, 'foggy': 1}\n"
          ]
        }
      ]
    },
    {
      "cell_type": "markdown",
      "source": [
        "7. (15б) Напишіть програму, яка б шукала необхідне число у впорядкованому списку цілочислених значень, де\n",
        "число має вводитись з консолі.\n",
        "власне алгоритм пошуку винесений в окрему функцію, яка повертає булеве значення (знайдено число - True, не знайдено - False).\n",
        "в залежності від результату функції, виведіть на екран повідомлення про успішний або ж неуспішний пошук.\n",
        "Зауваження: використовувати оператор in заборонено."
      ],
      "metadata": {
        "id": "RMiCcdOsBKQT"
      }
    },
    {
      "cell_type": "code",
      "source": [
        "def find_a_num(list, num):\n",
        "    index = 0\n",
        "    length_of_list = len(list)\n",
        "    while (index < length_of_list):\n",
        "        if (num == list[index]):\n",
        "          print(\"We found your number in list\")\n",
        "          return True\n",
        "        index += 1\n",
        "\n",
        "    print(\"We haven't found your number in list\")\n",
        "    return False\n",
        "\n",
        "\n",
        "\n",
        "print(\"Enter the number to find: \")\n",
        "numbers = [1,2,3,4,5,6,7,8,9,10]\n",
        "search_num = int(input())\n",
        "find_a_num(numbers, search_num)"
      ],
      "metadata": {
        "id": "UNCZg65OBOy-",
        "colab": {
          "base_uri": "https://localhost:8080/"
        },
        "outputId": "23f85c55-d462-4d05-f3e0-cf4fbef81ade"
      },
      "execution_count": 109,
      "outputs": [
        {
          "output_type": "stream",
          "name": "stdout",
          "text": [
            "Enter the number to find: \n",
            "7\n",
            "We found your number in list\n"
          ]
        },
        {
          "output_type": "execute_result",
          "data": {
            "text/plain": [
              "True"
            ]
          },
          "metadata": {},
          "execution_count": 109
        }
      ]
    },
    {
      "cell_type": "markdown",
      "source": [
        "# II. Lambda functions."
      ],
      "metadata": {
        "id": "Ae1n_OvLBTsy"
      }
    },
    {
      "cell_type": "markdown",
      "source": [
        "8. (4б) В яких випадках варто використовувати лямбда-функції?"
      ],
      "metadata": {
        "id": "xaD_wSlaCWen"
      }
    },
    {
      "cell_type": "markdown",
      "source": [
        "Загалом вони використовуються для виконання простих функцій, які не потребують повного визначення функції за допомогою ключового слова def. Використовувать варто в тих випадках, коли, наприклад, потрібно створити функцію, яка міститиме лише прості вирази, тобто вирази, які зазвичай складаються з одного рядка оператора. Вони також корисні, коли потрібно використати функцію один раз.\n",
        "Вони є анонімними і це дозволяє використовувати функції скрізь, де їх потрібно передавати як аргументи, наприклад, у вбудованих функціях, таких як map(), filter() і sorted().\n"
      ],
      "metadata": {
        "id": "42MB6OoLCakR"
      }
    },
    {
      "cell_type": "markdown",
      "source": [
        "9. (9б) Визначте список з рядками. Після цього визначте анонімну функцію для отримання першого символу у верхньому регістрі для кожного рядка списку.\n",
        "Підказка: використовуйте анонімну функцію в якості агрумента до вбудованої ф-ції, яка створена для застосування функцій над iterable обʼєктами. Результат виведіть на екран у вигляді кортежу."
      ],
      "metadata": {
        "id": "USrzrk7GCedk"
      }
    },
    {
      "cell_type": "code",
      "source": [
        "string_list = [\"one\", \"two\", \"three\", \"four\", \"five\"]\n",
        "\n",
        "anonymous_function = tuple(map(lambda word: word[:1].upper(), string_list))\n",
        "\n",
        "print(anonymous_function)\n"
      ],
      "metadata": {
        "id": "M8QWUsMlCjWH",
        "colab": {
          "base_uri": "https://localhost:8080/"
        },
        "outputId": "fad4aa2f-e99c-464a-bca5-8501e7d83f52"
      },
      "execution_count": 147,
      "outputs": [
        {
          "output_type": "stream",
          "name": "stdout",
          "text": [
            "('O', 'T', 'T', 'F', 'F')\n"
          ]
        }
      ]
    },
    {
      "cell_type": "markdown",
      "source": [
        "10. (10б) Визначте список з числовими значеннями (і цілими, і з рухомою комою). а) Відфільтруйте всі числа, які діляться націло на 3 за допомогою вбудованої функції та анонімної функції в якості аргумента). Збережіть результат у змінній, не приводяти явно до будь-якого типу. б) Використовуючи результат на кроці 12.а у якості аргументу, та за допомогою лямбда-функції в якості іншого аргументу до вбудованої функції, додайте до кожного елементу число 1 та опісля зведіть у квадрат. Остаточний результат приведіть явно до списку та виведіть на екран."
      ],
      "metadata": {
        "id": "9fyUhXOoCtGp"
      }
    },
    {
      "cell_type": "code",
      "source": [
        "my_num_list = [1, 2.5, 3, 4, 5.7, 6, 7.8, 8, 9, 10, 11, 12, 13.6, 14, 15]\n",
        "\n",
        "#a)\n",
        "filtered_num = filter(lambda s: s % 3 == 0, my_num_list)\n",
        "\n",
        "#b)\n",
        "improved_list = list(map(lambda s: (s + 1)**2, filtered_num))\n",
        "\n",
        "print(\"Остаточний результат:\", improved_list)"
      ],
      "metadata": {
        "id": "exEx2_okCsql",
        "colab": {
          "base_uri": "https://localhost:8080/"
        },
        "outputId": "fe0bf685-36a3-4c1d-c228-6a41e6affbac"
      },
      "execution_count": 171,
      "outputs": [
        {
          "output_type": "stream",
          "name": "stdout",
          "text": [
            "Остаточний результат: [16, 49, 100, 169, 256]\n"
          ]
        }
      ]
    },
    {
      "cell_type": "markdown",
      "source": [
        "# III. Decorators."
      ],
      "metadata": {
        "id": "o_x8cG_WC7jp"
      }
    },
    {
      "cell_type": "markdown",
      "source": [
        "11. (11б) Визначте декоратор, який би виводив у консоль повідомлення про початок роботи і назву функції (напр. my_function._ _ name _ _), а після відпрацювання функції - повідомлення про закінчення роботи і назву функції, що задекорована."
      ],
      "metadata": {
        "id": "mhxS4-mfC8LQ"
      }
    },
    {
      "cell_type": "code",
      "source": [
        "def my_new_decorator(func):\n",
        "  def my_wrapper(*args, **kwargs):\n",
        "    print(f\"HELLO IT'S {func.__name__}\")\n",
        "    result = func(*args, **kwargs)\n",
        "    print(f\"BYE THAT WAS {func.__name__}\")\n",
        "    return result\n",
        "  return my_wrapper\n",
        "\n",
        "@my_new_decorator\n",
        "def my_cool_func():\n",
        "  print(\"Catch me if you can\")\n",
        "\n",
        "my_cool_func()"
      ],
      "metadata": {
        "id": "srd1ygWjDGhO",
        "colab": {
          "base_uri": "https://localhost:8080/"
        },
        "outputId": "c9bcaa05-7a9d-4c55-f0cf-9b8e8b83795e"
      },
      "execution_count": 213,
      "outputs": [
        {
          "output_type": "stream",
          "name": "stdout",
          "text": [
            "HELLO IT'S my_cool_func\n",
            "Catch me if you can\n",
            "BYE THAT WAS my_cool_func\n"
          ]
        }
      ]
    },
    {
      "cell_type": "markdown",
      "source": [
        "12. (4б) Задекоруйте двома різними способами функції з завдання 4 та 5 декоратором із завдання 11. (**УВАГА**: не декоруйте функції двічі!)."
      ],
      "metadata": {
        "id": "rxGZwVBiDph3"
      }
    },
    {
      "cell_type": "code",
      "source": [
        "@my_new_decorator\n",
        "def function1 (n1, n2):\n",
        "  if (n2 == 0 or n1 == 0):\n",
        "    return None\n",
        "  else:\n",
        "   result = n1 / n2\n",
        "   return result\n",
        "\n",
        "def function2(n1, n2 = 1):\n",
        "  result = n1 - n2\n",
        "  return result\n",
        "\n",
        "function2 = my_new_decorator(function2)\n",
        "print(function1(15,3))\n",
        "print(function2(5,3))\n"
      ],
      "metadata": {
        "id": "06lj7eq_DwZe",
        "colab": {
          "base_uri": "https://localhost:8080/"
        },
        "outputId": "a174ea25-8cb2-4fcd-b0e6-7444f6466d31"
      },
      "execution_count": 220,
      "outputs": [
        {
          "output_type": "stream",
          "name": "stdout",
          "text": [
            "HELLO IT'S function1\n",
            "BYE THAT WAS function1\n",
            "5.0\n",
            "HELLO IT'S function2\n",
            "BYE THAT WAS function2\n",
            "2\n"
          ]
        }
      ]
    },
    {
      "cell_type": "markdown",
      "source": [
        "13. (2б) Викличте одну з задекорованих функцій і виведіть її результат на екран."
      ],
      "metadata": {
        "id": "P0ep1urBDzf-"
      }
    },
    {
      "cell_type": "code",
      "source": [
        "result = function1(18,2)\n",
        "print(result)"
      ],
      "metadata": {
        "id": "1QvTw0ctD0S3",
        "colab": {
          "base_uri": "https://localhost:8080/"
        },
        "outputId": "a5e44925-da28-45fc-f38b-4a204150face"
      },
      "execution_count": 222,
      "outputs": [
        {
          "output_type": "stream",
          "name": "stdout",
          "text": [
            "HELLO IT'S function1\n",
            "BYE THAT WAS function1\n",
            "9.0\n"
          ]
        }
      ]
    },
    {
      "cell_type": "markdown",
      "source": [
        "# IV. Recursion."
      ],
      "metadata": {
        "id": "poECCpuoD2S9"
      }
    },
    {
      "cell_type": "markdown",
      "source": [
        "14. (4б) Назвіть дві частини функції, які є обовʼязковими для того, щоб називати її рекурсивною."
      ],
      "metadata": {
        "id": "DqkURfdsD7MY"
      }
    },
    {
      "cell_type": "markdown",
      "source": [
        "Перший критерій це те, що функція має викликати саму себе з певними параметрами. Наступний критерій це те, що функція повинна мати певну умову для її завершення. Без цього, функція буде викликатися до нескінченності, що може призвести до переповнення стека."
      ],
      "metadata": {
        "id": "HYW6ttIeIQIU"
      }
    },
    {
      "cell_type": "markdown",
      "source": [
        "15. (15б) Визначте функцію, яка рекурсивно реалізовує пошук числа у послідовності Фібоначчі за її індексом (нумерація починається з нуля). Наприклад, потрібно знайти перше число у послідовності, тоді функція прийматиме 0 у якості аргумента і повертатиме 1, якщо ж знаходити третє число (індекс 2) послідовності, то функція повертатиме 2, якщо ж знаходити десяте число (індекс 9), то функція повертатиме 55."
      ],
      "metadata": {
        "id": "WYVt20UmEA35"
      }
    },
    {
      "cell_type": "code",
      "source": [
        "def find_number_Fibonnacci(number):\n",
        "   if number <= 1:\n",
        "       return 1\n",
        "   else:\n",
        "      return find_number_Fibonnacci(number - 1) + find_number_Fibonnacci(number - 2)\n",
        "\n",
        "\n",
        "result = find_number_Fibonnacci(9)\n",
        "print(result)\n"
      ],
      "metadata": {
        "id": "xIMhp05AIpV_",
        "colab": {
          "base_uri": "https://localhost:8080/"
        },
        "outputId": "fe44b1d3-7805-45a0-ff73-d0f39c730c92"
      },
      "execution_count": 240,
      "outputs": [
        {
          "output_type": "stream",
          "name": "stdout",
          "text": [
            "55\n"
          ]
        }
      ]
    },
    {
      "cell_type": "markdown",
      "source": [
        "# Вітаю! Ви велика(ий) молодець, що впоралась(вся). Похваліть себе та побалуйте чимось приємним. Я Вами пишаюся."
      ],
      "metadata": {
        "id": "ytXC8n_4Ip0W"
      }
    }
  ]
}