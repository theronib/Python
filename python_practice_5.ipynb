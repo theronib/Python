{
  "nbformat": 4,
  "nbformat_minor": 0,
  "metadata": {
    "colab": {
      "provenance": [],
      "include_colab_link": true
    },
    "kernelspec": {
      "name": "python3",
      "display_name": "Python 3"
    },
    "language_info": {
      "name": "python"
    }
  },
  "cells": [
    {
      "cell_type": "markdown",
      "metadata": {
        "id": "view-in-github",
        "colab_type": "text"
      },
      "source": [
        "<a href=\"https://colab.research.google.com/github/theronib/Python/blob/main/python_practice_5.ipynb\" target=\"_parent\"><img src=\"https://colab.research.google.com/assets/colab-badge.svg\" alt=\"Open In Colab\"/></a>"
      ]
    },
    {
      "cell_type": "markdown",
      "source": [
        "# I. OOP"
      ],
      "metadata": {
        "id": "5qV_sehzFCTp"
      }
    },
    {
      "cell_type": "markdown",
      "source": [
        "1. (6б). Створіть клас Animal, додайте три атрибути, один з яких має значення за замовчуванням та два методи на свій розсуд."
      ],
      "metadata": {
        "id": "tx_U_hOALyfg"
      }
    },
    {
      "cell_type": "code",
      "source": [
        "class Animal():\n",
        "\n",
        "  def __init__(self, name, sort):\n",
        "    self.name = name\n",
        "    self.sort = sort\n",
        "    self.food = \"meat\"\n",
        "\n",
        "  def eat_food(self):\n",
        "    print(self.name, \"is eating\", self.food)\n",
        "\n",
        "  def show_animal(self):\n",
        "    print(f\"Animal {self.name} is a {self.sort}\" )\n",
        "\n"
      ],
      "metadata": {
        "id": "-Vf895KaL88N"
      },
      "execution_count": null,
      "outputs": []
    },
    {
      "cell_type": "markdown",
      "source": [
        "2. (2б). Створіть два обʼєкти цього класу, де один з обʼєктів створюється із дефолтним значенням атрибуту. На одному обʼєкті отримайте значення його атрибуту, а на іншому викличте один з його методів."
      ],
      "metadata": {
        "id": "X_UlOMB0L93w"
      }
    },
    {
      "cell_type": "code",
      "source": [
        "pet1 = Animal(\"Annie\", \"dog\")\n",
        "pet1.show_animal()\n",
        "print(f\"Pet 1 food: {pet1.food}\")\n",
        "\n",
        "pet2 = Animal(\"Fuzzy\", \"cat\")\n",
        "pet2.show_animal()\n",
        "pet2.eat_food()"
      ],
      "metadata": {
        "id": "7gBu0ESOMCpG",
        "colab": {
          "base_uri": "https://localhost:8080/"
        },
        "outputId": "c0f667e1-a037-4be2-eb59-d44f1da2e5d2"
      },
      "execution_count": null,
      "outputs": [
        {
          "output_type": "stream",
          "name": "stdout",
          "text": [
            "Animal Annie is a dog\n",
            "Pet 1 food: meat\n",
            "Animal Fuzzy is a cat\n",
            "Fuzzy is eating meat\n"
          ]
        }
      ]
    },
    {
      "cell_type": "markdown",
      "source": [
        "3. (5б). Створіть клас, де атрибути мають різні рівні доступу. Спробуйте отримати їхні значення та опишіть результати."
      ],
      "metadata": {
        "id": "HoqSCZt1MHn5"
      }
    },
    {
      "cell_type": "code",
      "source": [
        "class School:\n",
        "  def __init__(self, name, location, telephone):\n",
        "    self.name = name\n",
        "    self._location = location\n",
        "    self.__telephone = telephone\n",
        "\n",
        "school1 = School(\"Junior Academy\", \"570 Lexington Ave\", \"1 646-438-7269\")\n",
        "\n",
        "print(school1.name)\n",
        "#print(school1._location)\n",
        "#print(school1.__telephone)\n",
        "\n",
        "# При виклику атрибуту name і location результати виводяться, вони мають такі модифікатори доступу як public і protected відповідно.\n",
        "# До атрибуту типу protected краще доступатися всередині класу через певні методи\n",
        "# А до атрибуту telephone доступитися вже не можливо, адже він має модифікатор доступу private\n",
        "\n",
        "\n"
      ],
      "metadata": {
        "id": "r9b3vJxBMSPV",
        "colab": {
          "base_uri": "https://localhost:8080/"
        },
        "outputId": "dc3d5e63-d2b3-4a48-e237-aa7edb27e53f"
      },
      "execution_count": null,
      "outputs": [
        {
          "output_type": "stream",
          "name": "stdout",
          "text": [
            "Junior Academy\n"
          ]
        }
      ]
    },
    {
      "cell_type": "markdown",
      "source": [
        "4. (7б). Як ви розумієте термін self? Для чого використовується метод __init __?"
      ],
      "metadata": {
        "id": "5op2m2vgMSkZ"
      }
    },
    {
      "cell_type": "markdown",
      "source": [
        "По суті, self використовується для посилання на певний поточний екземпляр класу. Цей параметр включається у всіх методах класу, як перший, тому що при виклику метода класу, Python завжди передає посилання на екземпляр класу як перший аргумент певного методу.\n",
        "\n"
      ],
      "metadata": {
        "id": "DyiPqNRvMasx"
      }
    },
    {
      "cell_type": "markdown",
      "source": [
        "5. (9б). Створіть клас Фігура без атрибутів, з методом get_area для отримання площі фігури, що повертає 0 та __add __, який приймає self та other в якості аргументів, а повертає суму площин фігур self та other."
      ],
      "metadata": {
        "id": "-6X8EGfjMd2y"
      }
    },
    {
      "cell_type": "code",
      "source": [
        "class Figure:\n",
        "\n",
        "  def get_area(self):\n",
        "    return 0\n",
        "\n",
        "  def __add__(self, other):\n",
        "    sum = self.get_area() + other.get_area()\n",
        "    return sum\n",
        "\n",
        "\n"
      ],
      "metadata": {
        "id": "4rvO_wYUMaEr"
      },
      "execution_count": null,
      "outputs": []
    },
    {
      "cell_type": "markdown",
      "source": [
        "6. (11б). Створіть 2 дочірніх класи від Фігури: Трикутник та Коло, які мають атрибути, необхідні для розрахунку площин. Визначте метод get_area в кожному з них так, щоби вони розраховували площу в залежності від формули для кожного типу фігури. Створіть обʼєкт класу Трикутник та обʼєкт класу Коло. Виконайте операцію суми за допомогою оператора + між ними."
      ],
      "metadata": {
        "id": "SFcKnnv5Mo_z"
      }
    },
    {
      "cell_type": "code",
      "source": [
        "class Triangle(Figure):\n",
        "  def __init__(self, b, h):\n",
        "    self.n = 0.5\n",
        "    self.b = b\n",
        "    self.h = h\n",
        "\n",
        "  def get_area(self):\n",
        "   area = self.n * self.b * self.h\n",
        "   return area\n",
        "\n",
        "\n",
        "class Circle(Figure):\n",
        "  def __init__(self, r):\n",
        "    self.p = 3.14\n",
        "    self.r = r\n",
        "\n",
        "  def get_area(self):\n",
        "   area = self.p * (self.r ** 2)\n",
        "   return area\n",
        "\n",
        "\n",
        "triangle1 = Triangle(2, 5)\n",
        "print(\"Triangle 1 area:\", triangle1.get_area())\n",
        "\n",
        "circle1 = Circle(4)\n",
        "print(\"Circle 1 area:\", circle1.get_area())\n",
        "\n",
        "sum = triangle1 + circle1\n",
        "print(\"Sum of both:\", sum)"
      ],
      "metadata": {
        "id": "H3GVNr69Muf3",
        "colab": {
          "base_uri": "https://localhost:8080/"
        },
        "outputId": "1e7d49ed-6138-4033-a2f4-5f4d1d6bf44d"
      },
      "execution_count": null,
      "outputs": [
        {
          "output_type": "stream",
          "name": "stdout",
          "text": [
            "Triangle 1 area: 5.0\n",
            "Circle 1 area: 50.24\n",
            "Sum of both: 55.24\n"
          ]
        }
      ]
    },
    {
      "cell_type": "markdown",
      "source": [
        "7. (3б). Продемонструйте різницю між isinstance та issubclass."
      ],
      "metadata": {
        "id": "HCvR206YMvLK"
      }
    },
    {
      "cell_type": "code",
      "source": [
        "class Book:\n",
        "  pass\n",
        "\n",
        "class Paper(Book):\n",
        "  pass\n",
        "\n",
        "\n",
        "print(issubclass(Paper, Book))\n",
        "print(issubclass(Book, Paper))\n",
        "object = Paper()\n",
        "print(isinstance(object, Paper))\n",
        "print(isinstance(object, Book))"
      ],
      "metadata": {
        "id": "L_V1bBvDM0GN",
        "colab": {
          "base_uri": "https://localhost:8080/"
        },
        "outputId": "ea4fd025-af8c-4e90-8646-add6159906d3"
      },
      "execution_count": null,
      "outputs": [
        {
          "output_type": "stream",
          "name": "stdout",
          "text": [
            "True\n",
            "False\n",
            "True\n",
            "True\n"
          ]
        }
      ]
    },
    {
      "cell_type": "markdown",
      "source": [
        "8. (13б). Створіть клас BankAccount з приватними атрибутами balance та account_number. Реалізуйте методи поповнення та зняття коштів, забезпечивши належну інкапсуляцію. Підказка: використовуйте декоратори property та setter."
      ],
      "metadata": {
        "id": "jjsaBZ-iM0Qq"
      }
    },
    {
      "cell_type": "code",
      "source": [
        "class BankAccount:\n",
        "  def __init__(self, balance, account_number):\n",
        "    self.__balance = balance\n",
        "    self.__account_number = account_number\n",
        "\n",
        "  @property\n",
        "  def balance(self):\n",
        "    return self.__balance\n",
        "\n",
        "  @property\n",
        "  def show_account_number(self):\n",
        "    return self.__account_number\n",
        "\n",
        "  @balance.setter\n",
        "  def balance(self, new_balance):\n",
        "    self.__balance = new_balance\n",
        "\n",
        "  def refill_cash(self, amount):\n",
        "    self.__balance += amount\n",
        "\n",
        "  def withdraw_cash(self, amount):\n",
        "    self.__balance -= amount\n",
        "\n",
        "\n",
        "account1 = BankAccount(balance=1000, account_number=\"5768869121\")\n",
        "print(\"Account balance:\", account1.balance)\n",
        "\n",
        "account1.refill_cash(500)\n",
        "print(\"Account after refill:\", account1.balance)\n",
        "\n",
        "account1.withdraw_cash(200)\n",
        "print(\"Account after withdrawal:\", account1.balance)\n",
        "\n"
      ],
      "metadata": {
        "id": "xCvZ7lh8M7YA",
        "colab": {
          "base_uri": "https://localhost:8080/"
        },
        "outputId": "e33bfa97-6990-4969-d93a-acc6399bd23d"
      },
      "execution_count": null,
      "outputs": [
        {
          "output_type": "stream",
          "name": "stdout",
          "text": [
            "Account balance: 1000\n",
            "Account after refill: 1500\n",
            "Account after withdrawal: 1300\n"
          ]
        }
      ]
    },
    {
      "cell_type": "markdown",
      "source": [
        "9. (11б). Створіть клас Library, який містить список об'єктів типу Book. Реалізуйте методи для додавання книги, видалення книги та відображення списку книг."
      ],
      "metadata": {
        "id": "tIzL2SJTM8ft"
      }
    },
    {
      "cell_type": "code",
      "source": [
        "class Book:\n",
        "\n",
        "  def __init__(self, name, pages):\n",
        "    self.name = name\n",
        "    self.pages = pages\n",
        "\n",
        "class Library:\n",
        "\n",
        "  def __init__(self):\n",
        "    self.books_list = []\n",
        "\n",
        "  def add_book(self, book):\n",
        "   self.books_list.append(book)\n",
        "\n",
        "  def remove_book(self, book):\n",
        "   self.books_list.remove(book)\n",
        "\n",
        "  def show_books(self):\n",
        "    for book in self.books_list:\n",
        "      print(f\"Name: {book.name}, Pages: {book.pages}\")\n",
        "\n",
        "\n",
        "library = Library()\n",
        "book1 = Book(\"Book1\", 60)\n",
        "book2 = Book(\"Book2\", 80)\n",
        "book3 = Book(\"Book3\", 45)\n",
        "book4 = Book(\"Book4\", 120)\n",
        "\n",
        "library.add_book(book1)\n",
        "library.add_book(book2)\n",
        "library.add_book(book3)\n",
        "library.add_book(book4)\n",
        "\n",
        "print(\"Books: \")\n",
        "library.show_books()\n",
        "\n",
        "library.remove_book(book3)\n",
        "print(\"\\nRemoving a book...\")\n",
        "library.show_books()"
      ],
      "metadata": {
        "id": "HWxfJKLtNAUZ",
        "colab": {
          "base_uri": "https://localhost:8080/"
        },
        "outputId": "01c4dae9-d90e-4ec7-afb7-37c8ef17a91f"
      },
      "execution_count": null,
      "outputs": [
        {
          "output_type": "stream",
          "name": "stdout",
          "text": [
            "Books: \n",
            "Name: Book1, Pages: 60\n",
            "Name: Book2, Pages: 80\n",
            "Name: Book3, Pages: 45\n",
            "Name: Book4, Pages: 120\n",
            "\n",
            "Removing a book...\n",
            "Name: Book1, Pages: 60\n",
            "Name: Book2, Pages: 80\n",
            "Name: Book4, Pages: 120\n"
          ]
        }
      ]
    },
    {
      "cell_type": "markdown",
      "source": [
        "10. (13б). Створіть клас Person з атрибутами name та age. Створіть ще один клас Employee з такими атрибутами, як department та salary. Створіть клас Manager, який успадковує обидва класи Person та Employee. Продемонструйте використання множинної спадковості, створивши обʼєкт класу Manager та отримавши mro для цього класу."
      ],
      "metadata": {
        "id": "lmV8pAwwNIqu"
      }
    },
    {
      "cell_type": "code",
      "source": [
        "class Person:\n",
        "  def __init__(self, name, age):\n",
        "    self.name = name\n",
        "    self.age = age\n",
        "\n",
        "class Employee:\n",
        "  def __init__(self, department, salary):\n",
        "    self.department = department\n",
        "    self.salary = salary\n",
        "\n",
        "class Manager(Person, Employee):\n",
        "  def __init__(self, name, age, department, salary, company, owner):\n",
        "    Person.__init__(self, name, age)\n",
        "    Employee.__init__(self, department, salary)\n",
        "    self.company = company\n",
        "    self.owner = owner\n",
        "\n",
        "  def print_manager(self):\n",
        "    print(f\"Hi, my name is {self.name}, I'm {self.age}. My department is {self.department} and my salary is ${self.salary}. I'm working in {self.company} for {self.owner}\"  )\n",
        "\n",
        "\n",
        "manager = Manager(\"Mike\", 26, \"C\", 4500, \"Big C.O\", \"Kylie\")\n",
        "manager.print_manager()\n",
        "Manager.__mro__"
      ],
      "metadata": {
        "id": "R49grKlWNPeN",
        "colab": {
          "base_uri": "https://localhost:8080/"
        },
        "outputId": "11d8f131-11c1-4183-e8d4-e3ffa5d28e2f"
      },
      "execution_count": 275,
      "outputs": [
        {
          "output_type": "stream",
          "name": "stdout",
          "text": [
            "Hi, my name is Mike, I'm 26. My department is C and my salary is $4500. I'm working in Big C.O for Kylie\n"
          ]
        },
        {
          "output_type": "execute_result",
          "data": {
            "text/plain": [
              "(__main__.Manager, __main__.Person, __main__.Employee, object)"
            ]
          },
          "metadata": {},
          "execution_count": 275
        }
      ]
    },
    {
      "cell_type": "markdown",
      "source": [
        "# II. Iterator"
      ],
      "metadata": {
        "id": "dIJyUiNBFG8G"
      }
    },
    {
      "cell_type": "markdown",
      "source": [
        "11. (4б). Визначте рядок(str) з 4ма різними за значенням символами. Створіть ітератор на основі цього рядка. Викличте 5 разів функцію next на ітераторі, 4ри перших з них огорніть у ф-цію print()."
      ],
      "metadata": {
        "id": "13vsm0NyKIzL"
      }
    },
    {
      "cell_type": "code",
      "source": [
        "my_string = \"1a*A\"\n",
        "\n",
        "my_iterator = iter(my_string)\n",
        "\n",
        "for x in range (len(my_string)):\n",
        " print(next(my_iterator))\n",
        "\n",
        "# next(my_iterator) буде вилітати помилка, адже елементів у рядку всього 4"
      ],
      "metadata": {
        "id": "81ntabAkKuz-",
        "colab": {
          "base_uri": "https://localhost:8080/"
        },
        "outputId": "304cf9a6-02a5-428b-fce7-db52269f5eeb"
      },
      "execution_count": null,
      "outputs": [
        {
          "output_type": "stream",
          "name": "stdout",
          "text": [
            "1\n",
            "a\n",
            "*\n",
            "A\n"
          ]
        }
      ]
    },
    {
      "cell_type": "markdown",
      "source": [
        "А що якщо викликати цю ж функцію на рядку?\n",
        "\n",
        "\n",
        "\n"
      ],
      "metadata": {
        "id": "aekWHGXOLRsO"
      }
    },
    {
      "cell_type": "code",
      "source": [
        "my_string2 = \"1a*A\"\n",
        "#print(next(my_string2)) буде вилітати помилка, адже рядок не є ітерабильним об'єктом"
      ],
      "metadata": {
        "id": "mxATGsErLV1i"
      },
      "execution_count": null,
      "outputs": []
    },
    {
      "cell_type": "markdown",
      "source": [
        " 12. (5б). Опишіть своїми словами в одному реченні, як ви розумієте різницю між ітерабельними обʼєктами та ітераторами (можна на прикладі)."
      ],
      "metadata": {
        "id": "XwtMEopwJ4pH"
      }
    },
    {
      "cell_type": "markdown",
      "source": [
        "Ітерабельні об'єкти - це такі об'єкти, які можна ітерувати, а саме з них можна отримувати поелементно дані, наприклад списки, рядки тощо. Ітератори, в свою чергу, представляють як об'єкти, які мають можливість поелементо перебирати значення ітерабельного об'єкту."
      ],
      "metadata": {
        "id": "-sHrODc3KFn8"
      }
    },
    {
      "cell_type": "markdown",
      "source": [
        "13. (11б). Створіть клас, що має визначений Iterator Protocol та при кожному виклику next повертає літери англійської абетки, поки вони не вичерпаються."
      ],
      "metadata": {
        "id": "E9qJWmNbK8Gl"
      }
    },
    {
      "cell_type": "code",
      "source": [
        "class Alphabet:\n",
        "  def __iter__(self):\n",
        "    self.i = ord('a')\n",
        "    return self\n",
        "\n",
        "  def __next__(self):\n",
        "   if self.i <= ord('z'):\n",
        "     x = chr(self.i)\n",
        "     self.i += 1\n",
        "     return x\n",
        "   else:\n",
        "    raise StopIteration\n",
        "\n",
        "alphabet = Alphabet()\n",
        "my_alphabet_iter = iter(alphabet)\n",
        "\n",
        "for x in range(26):\n",
        " print(next(my_alphabet_iter))\n",
        "\n"
      ],
      "metadata": {
        "id": "cqx-g_RsLo6I",
        "colab": {
          "base_uri": "https://localhost:8080/"
        },
        "outputId": "89726384-7967-4c67-86e7-4fe431555380"
      },
      "execution_count": null,
      "outputs": [
        {
          "output_type": "stream",
          "name": "stdout",
          "text": [
            "a\n",
            "b\n",
            "c\n",
            "d\n",
            "e\n",
            "f\n",
            "g\n",
            "h\n",
            "i\n",
            "j\n",
            "k\n",
            "l\n",
            "m\n",
            "n\n",
            "o\n",
            "p\n",
            "q\n",
            "r\n",
            "s\n",
            "t\n",
            "u\n",
            "v\n",
            "w\n",
            "x\n",
            "y\n",
            "z\n"
          ]
        }
      ]
    },
    {
      "cell_type": "markdown",
      "source": [
        "# Вітаю! Ви велика(ий) молодець, що впоралась(вся). Похваліть себе та побалуйте чимось приємним. Я Вами пишаюся."
      ],
      "metadata": {
        "id": "Z3E3S_s1Fv7-"
      }
    }
  ]
}